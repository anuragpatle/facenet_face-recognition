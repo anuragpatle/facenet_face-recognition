{
 "cells": [
  {
   "cell_type": "code",
   "execution_count": 38,
   "id": "513a1c77",
   "metadata": {},
   "outputs": [],
   "source": [
    "import os\n",
    "from werkzeug.utils import secure_filename\n",
    "from deepface import DeepFace\n",
    "from pathlib import Path\n",
    "from deepface.basemodels import VGGFace\n",
    "from pathlib import Path\n",
    "import json\n",
    "import requests"
   ]
  },
  {
   "cell_type": "code",
   "execution_count": 36,
   "id": "d46d8f36",
   "metadata": {},
   "outputs": [],
   "source": [
    "# Rest api end points\n",
    "ROOT_SENTI_API_URI = \"http://20.102.100.20:5000/facial-senti-api\"\n",
    "RAW_SENTI_API_URI = ROOT_SENTI_API_URI + \"/raw_sentiments\"\n",
    "headers_ = {'Content-Type': 'application/json'}"
   ]
  },
  {
   "cell_type": "code",
   "execution_count": 30,
   "id": "af401b89",
   "metadata": {},
   "outputs": [],
   "source": [
    "model = VGGFace.loadModel()"
   ]
  },
  {
   "cell_type": "code",
   "execution_count": 49,
   "id": "d9294000",
   "metadata": {},
   "outputs": [
    {
     "name": "stdout",
     "output_type": "stream",
     "text": [
      "Already built model is passed\n",
      "WARNING: Representations for images in  ./dataset  folder were previously stored in  representations_vgg_face.pkl . If you added new instances after this file creation, then please delete this file and call find function again. It will create it again.\n",
      "There are  82  representations found in  representations_vgg_face.pkl\n",
      "find function lasts  0.5130131244659424  seconds\n",
      "df.iloc[0]['VGG-Face_cosine'] ->  0.14904828924157953\n"
     ]
    },
    {
     "name": "stderr",
     "output_type": "stream",
     "text": [
      "Action: emotion: 100%|██████████| 4/4 [00:01<00:00,  3.97it/s]"
     ]
    },
    {
     "name": "stdout",
     "output_type": "stream",
     "text": [
      "emotion_dict:  {'angry': 0.041386380326002836, 'disgust': 1.6212865716624947e-05, 'fear': 87.87886500358582, 'happy': 0.05065537989139557, 'sad': 9.41755473613739, 'surprise': 0.0005752152446802938, 'neutral': 2.6109427213668823}\n",
      "identity:  Pranali_Khilari-2020002319\n",
      "sorted_emotion_dict:  {'fear': 87.87886500358582, 'sad': 9.41755473613739, 'neutral': 2.6109427213668823, 'happy': 0.05065537989139557, 'angry': 0.041386380326002836, 'surprise': 0.0005752152446802938, 'disgust': 1.6212865716624947e-05}\n",
      "label:  LIKELY_NOT_HAPPY\n",
      "data:  {\n",
      "    \"emotion_scores\": {\n",
      "        \"angry\": 0.041386380326002836,\n",
      "        \"disgust\": 1.6212865716624947e-05,\n",
      "        \"fear\": 87.87886500358582,\n",
      "        \"happy\": 0.05065537989139557,\n",
      "        \"sad\": 9.41755473613739,\n",
      "        \"surprise\": 0.0005752152446802938,\n",
      "        \"neutral\": 2.6109427213668823\n",
      "    },\n",
      "    \"date\": \"2021-12-19\",\n",
      "    \"time\": \"00:46:44\",\n",
      "    \"emp_name\": \"Pranali_Khilari\",\n",
      "    \"emp_id\": \"2020002319\",\n",
      "    \"overall_sentiment\": \"LIKELY_NOT_HAPPY\",\n",
      "    \"device_id\": \"tsystem-PU-5-r1-device1\"\n",
      "}\n",
      "Return of post request {'Msg': 'Query executed Successfully'}\n"
     ]
    },
    {
     "name": "stderr",
     "output_type": "stream",
     "text": [
      "\n"
     ]
    }
   ],
   "source": [
    "img_path = \"C:\\\\Users\\\\anurag\\\\Documents\\\\MyProjects\\\\PythonProjects\\\\facenet_face-recognition\\\\photos\\\\pranali\\\\1641816597.113409_face.jpg\"\n",
    "\n",
    "df = DeepFace.find(img_path = img_path, db_path = \"./dataset\", model_name = 'VGG-Face', model = model, distance_metric = 'cosine', enforce_detection=False)\n",
    "# print(df.head())\n",
    "if (df.shape[0] > 0):\n",
    "    print(\"df.iloc[0]['VGG-Face_cosine'] -> \", df.iloc[0]['VGG-Face_cosine'])\n",
    "    if (df.iloc[0]['VGG-Face_cosine'] < 0.18):\n",
    "        obj = DeepFace.analyze(img_path =img_path, actions=['age', 'gender', 'race', 'emotion'], enforce_detection=False)\n",
    "        emotion_dict = obj['emotion']\n",
    "        print(\"emotion_dict: \", emotion_dict)\n",
    "        \n",
    "        identity = df.iloc[0].identity.split(\"\\\\\")[1].split(\"/\")[0]\n",
    "        print(\"identity: \" , identity)\n",
    "        json_predsDict = obj['emotion']\n",
    "        emp_name_n_id = identity.split(\"-\",1) # setting the maxsplit parameter to 1, will return a list with 2 elements!\n",
    "\n",
    "        sorted_emotion_dict = dict(sorted(emotion_dict.items(), key = lambda x: x[1], reverse=True)) \n",
    "        print(\"sorted_emotion_dict: \", sorted_emotion_dict)\n",
    "        \n",
    "        list_sorted_emotion_dict = list(sorted_emotion_dict)\n",
    "        \n",
    "        # Note: order of elif block is important here\n",
    "        if list_sorted_emotion_dict[0] == \"happy\":\n",
    "            label = \"LIKELY_HAPPY\"\n",
    "        elif (list_sorted_emotion_dict[0] == \"neutral\") and (list_sorted_emotion_dict[1] == \"happy\"):\n",
    "            label = \"LIKELY_HAPPY\"\n",
    "        elif list_sorted_emotion_dict[0] == \"surprise\" and list_sorted_emotion_dict[1] == \"happy\":\n",
    "            label = \"LIKELY_HAPPY\" \n",
    "        elif list_sorted_emotion_dict[0] == \"neutral\" and list_sorted_emotion_dict[5] == \"happy\":\n",
    "            label = \"LIKELY_NEUTRAL\"\n",
    "        else:\n",
    "            label = \"LIKELY_NOT_HAPPY\"\n",
    "            \n",
    "        print('label: ', label)\n",
    "        \n",
    "        try:\n",
    "            # predsDict_ = json.dumps(json_predsDict, indent=4)\n",
    "            data_ = {\n",
    "                \"emotion_scores\": json_predsDict,\n",
    "                \"date\": '2021-12-19',\n",
    "                \"time\": '00:46:44',\n",
    "                \"emp_name\": emp_name_n_id[0],\n",
    "                \"emp_id\": emp_name_n_id[1],\n",
    "                \"overall_sentiment\": label,\n",
    "                \"device_id\": 'tsystem-PU-5-r1-device1'\n",
    "            }\n",
    "\n",
    "            data_ = json.dumps(data_, indent=4)\n",
    "\n",
    "            print (\"data: \", data_)\n",
    "            r = requests.post(url = RAW_SENTI_API_URI, data = data_, headers = headers_)\n",
    "            print (\"Return of post request\", r.json())\n",
    "        except Exception as e:\n",
    "            print (\"Problem while making post request to url \", RAW_SENTI_API_URI, \", Problem: \", e)\n",
    "\n"
   ]
  },
  {
   "cell_type": "code",
   "execution_count": null,
   "id": "456f8e0d",
   "metadata": {},
   "outputs": [],
   "source": []
  }
 ],
 "metadata": {
  "kernelspec": {
   "display_name": "venv_1_for_jupyter",
   "language": "python",
   "name": "venv_1_for_jupyter"
  },
  "language_info": {
   "codemirror_mode": {
    "name": "ipython",
    "version": 3
   },
   "file_extension": ".py",
   "mimetype": "text/x-python",
   "name": "python",
   "nbconvert_exporter": "python",
   "pygments_lexer": "ipython3",
   "version": "3.8.10"
  }
 },
 "nbformat": 4,
 "nbformat_minor": 5
}
